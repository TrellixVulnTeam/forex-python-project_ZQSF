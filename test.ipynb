{
 "cells": [
  {
   "cell_type": "code",
   "execution_count": 1,
   "metadata": {},
   "outputs": [],
   "source": [
    "import requests\n",
    "import defs\n",
    "import pandas as pd "
   ]
  },
  {
   "cell_type": "code",
   "execution_count": 2,
   "metadata": {},
   "outputs": [],
   "source": [
    "session = requests.Session()"
   ]
  },
  {
   "cell_type": "code",
   "execution_count": 3,
   "metadata": {},
   "outputs": [],
   "source": [
    "instrument = \"EUR_USD\"\n",
    "count = 10\n",
    "granularity = \"H1\""
   ]
  },
  {
   "cell_type": "code",
   "execution_count": 4,
   "metadata": {},
   "outputs": [],
   "source": [
    "url = f\"{defs.OANDA_URL}/instruments/{instrument}/candles\""
   ]
  },
  {
   "cell_type": "code",
   "execution_count": 5,
   "metadata": {},
   "outputs": [
    {
     "data": {
      "text/plain": [
       "'https://api-fxpractice.oanda.com/v3/instruments/EUR_USD/candles'"
      ]
     },
     "execution_count": 5,
     "metadata": {},
     "output_type": "execute_result"
    }
   ],
   "source": [
    "url"
   ]
  },
  {
   "cell_type": "code",
   "execution_count": 6,
   "metadata": {},
   "outputs": [],
   "source": [
    "params = dict(\n",
    "    count = count,\n",
    "    granularity = granularity,\n",
    "    price = \"MBA\"\n",
    ")"
   ]
  },
  {
   "cell_type": "code",
   "execution_count": 7,
   "metadata": {},
   "outputs": [
    {
     "data": {
      "text/plain": [
       "{'count': 10, 'granularity': 'H1', 'price': 'MBA'}"
      ]
     },
     "execution_count": 7,
     "metadata": {},
     "output_type": "execute_result"
    }
   ],
   "source": [
    "params"
   ]
  },
  {
   "cell_type": "code",
   "execution_count": 8,
   "metadata": {},
   "outputs": [],
   "source": [
    "response = session.get(url, params=params, headers=defs.SECURE_HEADER)"
   ]
  },
  {
   "cell_type": "code",
   "execution_count": 9,
   "metadata": {},
   "outputs": [
    {
     "data": {
      "text/plain": [
       "200"
      ]
     },
     "execution_count": 9,
     "metadata": {},
     "output_type": "execute_result"
    }
   ],
   "source": [
    "response.status_code\n"
   ]
  },
  {
   "cell_type": "code",
   "execution_count": 10,
   "metadata": {},
   "outputs": [],
   "source": [
    "data = response.json()"
   ]
  },
  {
   "cell_type": "code",
   "execution_count": 11,
   "metadata": {},
   "outputs": [
    {
     "data": {
      "text/plain": [
       "dict_keys(['instrument', 'granularity', 'candles'])"
      ]
     },
     "execution_count": 11,
     "metadata": {},
     "output_type": "execute_result"
    }
   ],
   "source": [
    "data.keys()"
   ]
  },
  {
   "cell_type": "code",
   "execution_count": 12,
   "metadata": {},
   "outputs": [
    {
     "data": {
      "text/plain": [
       "10"
      ]
     },
     "execution_count": 12,
     "metadata": {},
     "output_type": "execute_result"
    }
   ],
   "source": [
    "len(data['candles'])\n"
   ]
  },
  {
   "cell_type": "code",
   "execution_count": 13,
   "metadata": {},
   "outputs": [],
   "source": [
    "prices = ['mid', 'bid', 'ask']\n",
    "ohlc = ['o', 'h', 'l', 'c']\n"
   ]
  },
  {
   "cell_type": "code",
   "execution_count": 14,
   "metadata": {},
   "outputs": [
    {
     "name": "stdout",
     "output_type": "stream",
     "text": [
      "mid_o\n",
      "mid_h\n",
      "mid_l\n",
      "mid_c\n",
      "bid_o\n",
      "bid_h\n",
      "bid_l\n",
      "bid_c\n",
      "ask_o\n",
      "ask_h\n",
      "ask_l\n",
      "ask_c\n"
     ]
    }
   ],
   "source": [
    "for price in prices:\n",
    "    for oh in ohlc:\n",
    "        print(f\"{price}_{oh}\")"
   ]
  },
  {
   "cell_type": "code",
   "execution_count": 15,
   "metadata": {},
   "outputs": [
    {
     "data": {
      "text/plain": [
       "{'complete': True,\n",
       " 'volume': 7624,\n",
       " 'time': '2022-01-31T14:00:00.000000000Z',\n",
       " 'bid': {'o': '1.11925', 'h': '1.11980', 'l': '1.11840', 'c': '1.11886'},\n",
       " 'mid': {'o': '1.11931', 'h': '1.11988', 'l': '1.11846', 'c': '1.11892'},\n",
       " 'ask': {'o': '1.11937', 'h': '1.11995', 'l': '1.11853', 'c': '1.11899'}}"
      ]
     },
     "execution_count": 15,
     "metadata": {},
     "output_type": "execute_result"
    }
   ],
   "source": [
    "data['candles'][0]"
   ]
  },
  {
   "cell_type": "code",
   "execution_count": 16,
   "metadata": {},
   "outputs": [
    {
     "name": "stdout",
     "output_type": "stream",
     "text": [
      "{'time': '2022-01-31T14:00:00.000000000Z', 'volume': 7624, 'mid_o': '1.11931', 'mid_h': '1.11988', 'mid_l': '1.11846', 'mid_c': '1.11892', 'bid_o': '1.11925', 'bid_h': '1.11980', 'bid_l': '1.11840', 'bid_c': '1.11886', 'ask_o': '1.11937', 'ask_h': '1.11995', 'ask_l': '1.11853', 'ask_c': '1.11899'}\n"
     ]
    }
   ],
   "source": [
    "our_data = []\n",
    "for candle in data['candles']:\n",
    "    # skip if candle is not completely drawn\n",
    "    if candle['complete'] == False:\n",
    "        continue\n",
    "    new_dict = {}\n",
    "    new_dict['time'] = candle['time']\n",
    "    new_dict['volume'] = candle['volume']\n",
    "\n",
    "    for price in prices:\n",
    "        for oh in ohlc:\n",
    "            new_dict[f\"{price}_{oh}\"] = candle[price][oh]\n",
    "    our_data.append(new_dict)\n",
    "\n",
    "print(our_data[0])"
   ]
  },
  {
   "cell_type": "code",
   "execution_count": 17,
   "metadata": {},
   "outputs": [],
   "source": [
    "candles_df = pd.DataFrame.from_dict(our_data)"
   ]
  },
  {
   "cell_type": "code",
   "execution_count": 18,
   "metadata": {},
   "outputs": [
    {
     "data": {
      "text/html": [
       "<div>\n",
       "<style scoped>\n",
       "    .dataframe tbody tr th:only-of-type {\n",
       "        vertical-align: middle;\n",
       "    }\n",
       "\n",
       "    .dataframe tbody tr th {\n",
       "        vertical-align: top;\n",
       "    }\n",
       "\n",
       "    .dataframe thead th {\n",
       "        text-align: right;\n",
       "    }\n",
       "</style>\n",
       "<table border=\"1\" class=\"dataframe\">\n",
       "  <thead>\n",
       "    <tr style=\"text-align: right;\">\n",
       "      <th></th>\n",
       "      <th>time</th>\n",
       "      <th>volume</th>\n",
       "      <th>mid_o</th>\n",
       "      <th>mid_h</th>\n",
       "      <th>mid_l</th>\n",
       "      <th>mid_c</th>\n",
       "      <th>bid_o</th>\n",
       "      <th>bid_h</th>\n",
       "      <th>bid_l</th>\n",
       "      <th>bid_c</th>\n",
       "      <th>ask_o</th>\n",
       "      <th>ask_h</th>\n",
       "      <th>ask_l</th>\n",
       "      <th>ask_c</th>\n",
       "    </tr>\n",
       "  </thead>\n",
       "  <tbody>\n",
       "    <tr>\n",
       "      <th>0</th>\n",
       "      <td>2022-01-31T14:00:00.000000000Z</td>\n",
       "      <td>7624</td>\n",
       "      <td>1.11931</td>\n",
       "      <td>1.11988</td>\n",
       "      <td>1.11846</td>\n",
       "      <td>1.11892</td>\n",
       "      <td>1.11925</td>\n",
       "      <td>1.11980</td>\n",
       "      <td>1.11840</td>\n",
       "      <td>1.11886</td>\n",
       "      <td>1.11937</td>\n",
       "      <td>1.11995</td>\n",
       "      <td>1.11853</td>\n",
       "      <td>1.11899</td>\n",
       "    </tr>\n",
       "    <tr>\n",
       "      <th>1</th>\n",
       "      <td>2022-01-31T15:00:00.000000000Z</td>\n",
       "      <td>9629</td>\n",
       "      <td>1.11892</td>\n",
       "      <td>1.12179</td>\n",
       "      <td>1.11834</td>\n",
       "      <td>1.12108</td>\n",
       "      <td>1.11885</td>\n",
       "      <td>1.12172</td>\n",
       "      <td>1.11827</td>\n",
       "      <td>1.12101</td>\n",
       "      <td>1.11898</td>\n",
       "      <td>1.12187</td>\n",
       "      <td>1.11840</td>\n",
       "      <td>1.12115</td>\n",
       "    </tr>\n",
       "    <tr>\n",
       "      <th>2</th>\n",
       "      <td>2022-01-31T16:00:00.000000000Z</td>\n",
       "      <td>7152</td>\n",
       "      <td>1.12110</td>\n",
       "      <td>1.12136</td>\n",
       "      <td>1.11988</td>\n",
       "      <td>1.12102</td>\n",
       "      <td>1.12103</td>\n",
       "      <td>1.12129</td>\n",
       "      <td>1.11979</td>\n",
       "      <td>1.12095</td>\n",
       "      <td>1.12117</td>\n",
       "      <td>1.12145</td>\n",
       "      <td>1.11996</td>\n",
       "      <td>1.12109</td>\n",
       "    </tr>\n",
       "    <tr>\n",
       "      <th>3</th>\n",
       "      <td>2022-01-31T17:00:00.000000000Z</td>\n",
       "      <td>3810</td>\n",
       "      <td>1.12104</td>\n",
       "      <td>1.12198</td>\n",
       "      <td>1.12096</td>\n",
       "      <td>1.12192</td>\n",
       "      <td>1.12097</td>\n",
       "      <td>1.12191</td>\n",
       "      <td>1.12089</td>\n",
       "      <td>1.12186</td>\n",
       "      <td>1.12110</td>\n",
       "      <td>1.12205</td>\n",
       "      <td>1.12103</td>\n",
       "      <td>1.12199</td>\n",
       "    </tr>\n",
       "    <tr>\n",
       "      <th>4</th>\n",
       "      <td>2022-01-31T18:00:00.000000000Z</td>\n",
       "      <td>2717</td>\n",
       "      <td>1.12192</td>\n",
       "      <td>1.12344</td>\n",
       "      <td>1.12184</td>\n",
       "      <td>1.12334</td>\n",
       "      <td>1.12185</td>\n",
       "      <td>1.12337</td>\n",
       "      <td>1.12177</td>\n",
       "      <td>1.12326</td>\n",
       "      <td>1.12198</td>\n",
       "      <td>1.12351</td>\n",
       "      <td>1.12191</td>\n",
       "      <td>1.12342</td>\n",
       "    </tr>\n",
       "    <tr>\n",
       "      <th>5</th>\n",
       "      <td>2022-01-31T19:00:00.000000000Z</td>\n",
       "      <td>2628</td>\n",
       "      <td>1.12332</td>\n",
       "      <td>1.12478</td>\n",
       "      <td>1.12322</td>\n",
       "      <td>1.12432</td>\n",
       "      <td>1.12324</td>\n",
       "      <td>1.12470</td>\n",
       "      <td>1.12315</td>\n",
       "      <td>1.12425</td>\n",
       "      <td>1.12341</td>\n",
       "      <td>1.12486</td>\n",
       "      <td>1.12329</td>\n",
       "      <td>1.12439</td>\n",
       "    </tr>\n",
       "    <tr>\n",
       "      <th>6</th>\n",
       "      <td>2022-01-31T20:00:00.000000000Z</td>\n",
       "      <td>2402</td>\n",
       "      <td>1.12433</td>\n",
       "      <td>1.12456</td>\n",
       "      <td>1.12333</td>\n",
       "      <td>1.12352</td>\n",
       "      <td>1.12426</td>\n",
       "      <td>1.12448</td>\n",
       "      <td>1.12325</td>\n",
       "      <td>1.12344</td>\n",
       "      <td>1.12440</td>\n",
       "      <td>1.12464</td>\n",
       "      <td>1.12340</td>\n",
       "      <td>1.12360</td>\n",
       "    </tr>\n",
       "    <tr>\n",
       "      <th>7</th>\n",
       "      <td>2022-01-31T21:00:00.000000000Z</td>\n",
       "      <td>670</td>\n",
       "      <td>1.12351</td>\n",
       "      <td>1.12355</td>\n",
       "      <td>1.12305</td>\n",
       "      <td>1.12330</td>\n",
       "      <td>1.12344</td>\n",
       "      <td>1.12348</td>\n",
       "      <td>1.12297</td>\n",
       "      <td>1.12320</td>\n",
       "      <td>1.12358</td>\n",
       "      <td>1.12362</td>\n",
       "      <td>1.12313</td>\n",
       "      <td>1.12339</td>\n",
       "    </tr>\n",
       "    <tr>\n",
       "      <th>8</th>\n",
       "      <td>2022-01-31T22:00:00.000000000Z</td>\n",
       "      <td>66</td>\n",
       "      <td>1.12357</td>\n",
       "      <td>1.12357</td>\n",
       "      <td>1.12312</td>\n",
       "      <td>1.12312</td>\n",
       "      <td>1.12319</td>\n",
       "      <td>1.12324</td>\n",
       "      <td>1.12286</td>\n",
       "      <td>1.12294</td>\n",
       "      <td>1.12395</td>\n",
       "      <td>1.12395</td>\n",
       "      <td>1.12326</td>\n",
       "      <td>1.12329</td>\n",
       "    </tr>\n",
       "  </tbody>\n",
       "</table>\n",
       "</div>"
      ],
      "text/plain": [
       "                             time  volume    mid_o    mid_h    mid_l    mid_c  \\\n",
       "0  2022-01-31T14:00:00.000000000Z    7624  1.11931  1.11988  1.11846  1.11892   \n",
       "1  2022-01-31T15:00:00.000000000Z    9629  1.11892  1.12179  1.11834  1.12108   \n",
       "2  2022-01-31T16:00:00.000000000Z    7152  1.12110  1.12136  1.11988  1.12102   \n",
       "3  2022-01-31T17:00:00.000000000Z    3810  1.12104  1.12198  1.12096  1.12192   \n",
       "4  2022-01-31T18:00:00.000000000Z    2717  1.12192  1.12344  1.12184  1.12334   \n",
       "5  2022-01-31T19:00:00.000000000Z    2628  1.12332  1.12478  1.12322  1.12432   \n",
       "6  2022-01-31T20:00:00.000000000Z    2402  1.12433  1.12456  1.12333  1.12352   \n",
       "7  2022-01-31T21:00:00.000000000Z     670  1.12351  1.12355  1.12305  1.12330   \n",
       "8  2022-01-31T22:00:00.000000000Z      66  1.12357  1.12357  1.12312  1.12312   \n",
       "\n",
       "     bid_o    bid_h    bid_l    bid_c    ask_o    ask_h    ask_l    ask_c  \n",
       "0  1.11925  1.11980  1.11840  1.11886  1.11937  1.11995  1.11853  1.11899  \n",
       "1  1.11885  1.12172  1.11827  1.12101  1.11898  1.12187  1.11840  1.12115  \n",
       "2  1.12103  1.12129  1.11979  1.12095  1.12117  1.12145  1.11996  1.12109  \n",
       "3  1.12097  1.12191  1.12089  1.12186  1.12110  1.12205  1.12103  1.12199  \n",
       "4  1.12185  1.12337  1.12177  1.12326  1.12198  1.12351  1.12191  1.12342  \n",
       "5  1.12324  1.12470  1.12315  1.12425  1.12341  1.12486  1.12329  1.12439  \n",
       "6  1.12426  1.12448  1.12325  1.12344  1.12440  1.12464  1.12340  1.12360  \n",
       "7  1.12344  1.12348  1.12297  1.12320  1.12358  1.12362  1.12313  1.12339  \n",
       "8  1.12319  1.12324  1.12286  1.12294  1.12395  1.12395  1.12326  1.12329  "
      ]
     },
     "execution_count": 18,
     "metadata": {},
     "output_type": "execute_result"
    }
   ],
   "source": [
    "candles_df"
   ]
  },
  {
   "cell_type": "code",
   "execution_count": 19,
   "metadata": {},
   "outputs": [],
   "source": [
    "candles_df.to_pickle(\"EUR_USD_H1.pkl\")"
   ]
  },
  {
   "cell_type": "code",
   "execution_count": 20,
   "metadata": {},
   "outputs": [],
   "source": [
    "test_df = pd.read_pickle(\"EUR_USD_H1.pkl\")"
   ]
  },
  {
   "cell_type": "code",
   "execution_count": 21,
   "metadata": {},
   "outputs": [
    {
     "data": {
      "text/html": [
       "<div>\n",
       "<style scoped>\n",
       "    .dataframe tbody tr th:only-of-type {\n",
       "        vertical-align: middle;\n",
       "    }\n",
       "\n",
       "    .dataframe tbody tr th {\n",
       "        vertical-align: top;\n",
       "    }\n",
       "\n",
       "    .dataframe thead th {\n",
       "        text-align: right;\n",
       "    }\n",
       "</style>\n",
       "<table border=\"1\" class=\"dataframe\">\n",
       "  <thead>\n",
       "    <tr style=\"text-align: right;\">\n",
       "      <th></th>\n",
       "      <th>time</th>\n",
       "      <th>volume</th>\n",
       "      <th>mid_o</th>\n",
       "      <th>mid_h</th>\n",
       "      <th>mid_l</th>\n",
       "      <th>mid_c</th>\n",
       "      <th>bid_o</th>\n",
       "      <th>bid_h</th>\n",
       "      <th>bid_l</th>\n",
       "      <th>bid_c</th>\n",
       "      <th>ask_o</th>\n",
       "      <th>ask_h</th>\n",
       "      <th>ask_l</th>\n",
       "      <th>ask_c</th>\n",
       "    </tr>\n",
       "  </thead>\n",
       "  <tbody>\n",
       "    <tr>\n",
       "      <th>0</th>\n",
       "      <td>2022-01-31T14:00:00.000000000Z</td>\n",
       "      <td>7624</td>\n",
       "      <td>1.11931</td>\n",
       "      <td>1.11988</td>\n",
       "      <td>1.11846</td>\n",
       "      <td>1.11892</td>\n",
       "      <td>1.11925</td>\n",
       "      <td>1.11980</td>\n",
       "      <td>1.11840</td>\n",
       "      <td>1.11886</td>\n",
       "      <td>1.11937</td>\n",
       "      <td>1.11995</td>\n",
       "      <td>1.11853</td>\n",
       "      <td>1.11899</td>\n",
       "    </tr>\n",
       "    <tr>\n",
       "      <th>1</th>\n",
       "      <td>2022-01-31T15:00:00.000000000Z</td>\n",
       "      <td>9629</td>\n",
       "      <td>1.11892</td>\n",
       "      <td>1.12179</td>\n",
       "      <td>1.11834</td>\n",
       "      <td>1.12108</td>\n",
       "      <td>1.11885</td>\n",
       "      <td>1.12172</td>\n",
       "      <td>1.11827</td>\n",
       "      <td>1.12101</td>\n",
       "      <td>1.11898</td>\n",
       "      <td>1.12187</td>\n",
       "      <td>1.11840</td>\n",
       "      <td>1.12115</td>\n",
       "    </tr>\n",
       "    <tr>\n",
       "      <th>2</th>\n",
       "      <td>2022-01-31T16:00:00.000000000Z</td>\n",
       "      <td>7152</td>\n",
       "      <td>1.12110</td>\n",
       "      <td>1.12136</td>\n",
       "      <td>1.11988</td>\n",
       "      <td>1.12102</td>\n",
       "      <td>1.12103</td>\n",
       "      <td>1.12129</td>\n",
       "      <td>1.11979</td>\n",
       "      <td>1.12095</td>\n",
       "      <td>1.12117</td>\n",
       "      <td>1.12145</td>\n",
       "      <td>1.11996</td>\n",
       "      <td>1.12109</td>\n",
       "    </tr>\n",
       "    <tr>\n",
       "      <th>3</th>\n",
       "      <td>2022-01-31T17:00:00.000000000Z</td>\n",
       "      <td>3810</td>\n",
       "      <td>1.12104</td>\n",
       "      <td>1.12198</td>\n",
       "      <td>1.12096</td>\n",
       "      <td>1.12192</td>\n",
       "      <td>1.12097</td>\n",
       "      <td>1.12191</td>\n",
       "      <td>1.12089</td>\n",
       "      <td>1.12186</td>\n",
       "      <td>1.12110</td>\n",
       "      <td>1.12205</td>\n",
       "      <td>1.12103</td>\n",
       "      <td>1.12199</td>\n",
       "    </tr>\n",
       "    <tr>\n",
       "      <th>4</th>\n",
       "      <td>2022-01-31T18:00:00.000000000Z</td>\n",
       "      <td>2717</td>\n",
       "      <td>1.12192</td>\n",
       "      <td>1.12344</td>\n",
       "      <td>1.12184</td>\n",
       "      <td>1.12334</td>\n",
       "      <td>1.12185</td>\n",
       "      <td>1.12337</td>\n",
       "      <td>1.12177</td>\n",
       "      <td>1.12326</td>\n",
       "      <td>1.12198</td>\n",
       "      <td>1.12351</td>\n",
       "      <td>1.12191</td>\n",
       "      <td>1.12342</td>\n",
       "    </tr>\n",
       "    <tr>\n",
       "      <th>5</th>\n",
       "      <td>2022-01-31T19:00:00.000000000Z</td>\n",
       "      <td>2628</td>\n",
       "      <td>1.12332</td>\n",
       "      <td>1.12478</td>\n",
       "      <td>1.12322</td>\n",
       "      <td>1.12432</td>\n",
       "      <td>1.12324</td>\n",
       "      <td>1.12470</td>\n",
       "      <td>1.12315</td>\n",
       "      <td>1.12425</td>\n",
       "      <td>1.12341</td>\n",
       "      <td>1.12486</td>\n",
       "      <td>1.12329</td>\n",
       "      <td>1.12439</td>\n",
       "    </tr>\n",
       "    <tr>\n",
       "      <th>6</th>\n",
       "      <td>2022-01-31T20:00:00.000000000Z</td>\n",
       "      <td>2402</td>\n",
       "      <td>1.12433</td>\n",
       "      <td>1.12456</td>\n",
       "      <td>1.12333</td>\n",
       "      <td>1.12352</td>\n",
       "      <td>1.12426</td>\n",
       "      <td>1.12448</td>\n",
       "      <td>1.12325</td>\n",
       "      <td>1.12344</td>\n",
       "      <td>1.12440</td>\n",
       "      <td>1.12464</td>\n",
       "      <td>1.12340</td>\n",
       "      <td>1.12360</td>\n",
       "    </tr>\n",
       "    <tr>\n",
       "      <th>7</th>\n",
       "      <td>2022-01-31T21:00:00.000000000Z</td>\n",
       "      <td>670</td>\n",
       "      <td>1.12351</td>\n",
       "      <td>1.12355</td>\n",
       "      <td>1.12305</td>\n",
       "      <td>1.12330</td>\n",
       "      <td>1.12344</td>\n",
       "      <td>1.12348</td>\n",
       "      <td>1.12297</td>\n",
       "      <td>1.12320</td>\n",
       "      <td>1.12358</td>\n",
       "      <td>1.12362</td>\n",
       "      <td>1.12313</td>\n",
       "      <td>1.12339</td>\n",
       "    </tr>\n",
       "    <tr>\n",
       "      <th>8</th>\n",
       "      <td>2022-01-31T22:00:00.000000000Z</td>\n",
       "      <td>66</td>\n",
       "      <td>1.12357</td>\n",
       "      <td>1.12357</td>\n",
       "      <td>1.12312</td>\n",
       "      <td>1.12312</td>\n",
       "      <td>1.12319</td>\n",
       "      <td>1.12324</td>\n",
       "      <td>1.12286</td>\n",
       "      <td>1.12294</td>\n",
       "      <td>1.12395</td>\n",
       "      <td>1.12395</td>\n",
       "      <td>1.12326</td>\n",
       "      <td>1.12329</td>\n",
       "    </tr>\n",
       "  </tbody>\n",
       "</table>\n",
       "</div>"
      ],
      "text/plain": [
       "                             time  volume    mid_o    mid_h    mid_l    mid_c  \\\n",
       "0  2022-01-31T14:00:00.000000000Z    7624  1.11931  1.11988  1.11846  1.11892   \n",
       "1  2022-01-31T15:00:00.000000000Z    9629  1.11892  1.12179  1.11834  1.12108   \n",
       "2  2022-01-31T16:00:00.000000000Z    7152  1.12110  1.12136  1.11988  1.12102   \n",
       "3  2022-01-31T17:00:00.000000000Z    3810  1.12104  1.12198  1.12096  1.12192   \n",
       "4  2022-01-31T18:00:00.000000000Z    2717  1.12192  1.12344  1.12184  1.12334   \n",
       "5  2022-01-31T19:00:00.000000000Z    2628  1.12332  1.12478  1.12322  1.12432   \n",
       "6  2022-01-31T20:00:00.000000000Z    2402  1.12433  1.12456  1.12333  1.12352   \n",
       "7  2022-01-31T21:00:00.000000000Z     670  1.12351  1.12355  1.12305  1.12330   \n",
       "8  2022-01-31T22:00:00.000000000Z      66  1.12357  1.12357  1.12312  1.12312   \n",
       "\n",
       "     bid_o    bid_h    bid_l    bid_c    ask_o    ask_h    ask_l    ask_c  \n",
       "0  1.11925  1.11980  1.11840  1.11886  1.11937  1.11995  1.11853  1.11899  \n",
       "1  1.11885  1.12172  1.11827  1.12101  1.11898  1.12187  1.11840  1.12115  \n",
       "2  1.12103  1.12129  1.11979  1.12095  1.12117  1.12145  1.11996  1.12109  \n",
       "3  1.12097  1.12191  1.12089  1.12186  1.12110  1.12205  1.12103  1.12199  \n",
       "4  1.12185  1.12337  1.12177  1.12326  1.12198  1.12351  1.12191  1.12342  \n",
       "5  1.12324  1.12470  1.12315  1.12425  1.12341  1.12486  1.12329  1.12439  \n",
       "6  1.12426  1.12448  1.12325  1.12344  1.12440  1.12464  1.12340  1.12360  \n",
       "7  1.12344  1.12348  1.12297  1.12320  1.12358  1.12362  1.12313  1.12339  \n",
       "8  1.12319  1.12324  1.12286  1.12294  1.12395  1.12395  1.12326  1.12329  "
      ]
     },
     "execution_count": 21,
     "metadata": {},
     "output_type": "execute_result"
    }
   ],
   "source": [
    "test_df"
   ]
  },
  {
   "cell_type": "code",
   "execution_count": null,
   "metadata": {},
   "outputs": [],
   "source": []
  }
 ],
 "metadata": {
  "interpreter": {
   "hash": "d33dcee9da7b196de654f24cab678bc1ebfa1c0354e013d5499b8ee4f0d2e1a4"
  },
  "kernelspec": {
   "display_name": "Python 3.9.9 64-bit ('venv': venv)",
   "language": "python",
   "name": "python3"
  },
  "language_info": {
   "codemirror_mode": {
    "name": "ipython",
    "version": 3
   },
   "file_extension": ".py",
   "mimetype": "text/x-python",
   "name": "python",
   "nbconvert_exporter": "python",
   "pygments_lexer": "ipython3",
   "version": "3.9.9"
  },
  "orig_nbformat": 4
 },
 "nbformat": 4,
 "nbformat_minor": 2
}
