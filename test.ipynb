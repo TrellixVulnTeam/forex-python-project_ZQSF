{
 "cells": [
  {
   "cell_type": "code",
   "execution_count": 1,
   "metadata": {},
   "outputs": [],
   "source": [
    "import requests\n",
    "import defs"
   ]
  },
  {
   "cell_type": "code",
   "execution_count": 2,
   "metadata": {},
   "outputs": [],
   "source": [
    "session = requests.Session()"
   ]
  },
  {
   "cell_type": "code",
   "execution_count": 3,
   "metadata": {},
   "outputs": [],
   "source": [
    "instrument = \"EUR_USD\"\n",
    "count = 10\n",
    "granularity = \"H1\""
   ]
  },
  {
   "cell_type": "code",
   "execution_count": 13,
   "metadata": {},
   "outputs": [],
   "source": [
    "url = f\"{defs.OANDA_URL}/instruments/{instrument}/candles\""
   ]
  },
  {
   "cell_type": "code",
   "execution_count": 14,
   "metadata": {},
   "outputs": [
    {
     "data": {
      "text/plain": [
       "'https://api-fxpractice.oanda.com/v3/instruments/EUR_USD/candles'"
      ]
     },
     "execution_count": 14,
     "metadata": {},
     "output_type": "execute_result"
    }
   ],
   "source": [
    "url"
   ]
  },
  {
   "cell_type": "code",
   "execution_count": 15,
   "metadata": {},
   "outputs": [],
   "source": [
    "params = dict(\n",
    "    count = count,\n",
    "    granularity = granularity,\n",
    "    price = \"MBA\"\n",
    ")"
   ]
  },
  {
   "cell_type": "code",
   "execution_count": 16,
   "metadata": {},
   "outputs": [
    {
     "data": {
      "text/plain": [
       "{'count': 10, 'granularity': 'H1', 'price': 'MBA'}"
      ]
     },
     "execution_count": 16,
     "metadata": {},
     "output_type": "execute_result"
    }
   ],
   "source": [
    "params"
   ]
  },
  {
   "cell_type": "code",
   "execution_count": 17,
   "metadata": {},
   "outputs": [],
   "source": [
    "response = session.get(url, params=params, headers=defs.SECURE_HEADER)"
   ]
  },
  {
   "cell_type": "code",
   "execution_count": 18,
   "metadata": {},
   "outputs": [
    {
     "data": {
      "text/plain": [
       "200"
      ]
     },
     "execution_count": 18,
     "metadata": {},
     "output_type": "execute_result"
    }
   ],
   "source": [
    "response.status_code\n"
   ]
  },
  {
   "cell_type": "code",
   "execution_count": 19,
   "metadata": {},
   "outputs": [
    {
     "data": {
      "text/plain": [
       "{'instrument': 'EUR_USD',\n",
       " 'granularity': 'H1',\n",
       " 'candles': [{'complete': True,\n",
       "   'volume': 2541,\n",
       "   'time': '2022-01-24T20:00:00.000000000Z',\n",
       "   'bid': {'o': '1.13192', 'h': '1.13236', 'l': '1.13178', 'c': '1.13200'},\n",
       "   'mid': {'o': '1.13200', 'h': '1.13243', 'l': '1.13185', 'c': '1.13207'},\n",
       "   'ask': {'o': '1.13207', 'h': '1.13250', 'l': '1.13192', 'c': '1.13214'}},\n",
       "  {'complete': True,\n",
       "   'volume': 764,\n",
       "   'time': '2022-01-24T21:00:00.000000000Z',\n",
       "   'bid': {'o': '1.13198', 'h': '1.13279', 'l': '1.13176', 'c': '1.13234'},\n",
       "   'mid': {'o': '1.13205', 'h': '1.13286', 'l': '1.13183', 'c': '1.13242'},\n",
       "   'ask': {'o': '1.13212', 'h': '1.13293', 'l': '1.13190', 'c': '1.13251'}},\n",
       "  {'complete': True,\n",
       "   'volume': 116,\n",
       "   'time': '2022-01-24T22:00:00.000000000Z',\n",
       "   'bid': {'o': '1.13218', 'h': '1.13237', 'l': '1.13172', 'c': '1.13236'},\n",
       "   'mid': {'o': '1.13268', 'h': '1.13269', 'l': '1.13222', 'c': '1.13268'},\n",
       "   'ask': {'o': '1.13317', 'h': '1.13317', 'l': '1.13268', 'c': '1.13299'}},\n",
       "  {'complete': True,\n",
       "   'volume': 654,\n",
       "   'time': '2022-01-24T23:00:00.000000000Z',\n",
       "   'bid': {'o': '1.13234', 'h': '1.13276', 'l': '1.13209', 'c': '1.13231'},\n",
       "   'mid': {'o': '1.13264', 'h': '1.13292', 'l': '1.13216', 'c': '1.13239'},\n",
       "   'ask': {'o': '1.13293', 'h': '1.13313', 'l': '1.13224', 'c': '1.13247'}},\n",
       "  {'complete': True,\n",
       "   'volume': 1262,\n",
       "   'time': '2022-01-25T00:00:00.000000000Z',\n",
       "   'bid': {'o': '1.13231', 'h': '1.13234', 'l': '1.13166', 'c': '1.13194'},\n",
       "   'mid': {'o': '1.13238', 'h': '1.13242', 'l': '1.13173', 'c': '1.13201'},\n",
       "   'ask': {'o': '1.13245', 'h': '1.13249', 'l': '1.13180', 'c': '1.13208'}},\n",
       "  {'complete': True,\n",
       "   'volume': 1311,\n",
       "   'time': '2022-01-25T01:00:00.000000000Z',\n",
       "   'bid': {'o': '1.13192', 'h': '1.13229', 'l': '1.13157', 'c': '1.13161'},\n",
       "   'mid': {'o': '1.13199', 'h': '1.13236', 'l': '1.13164', 'c': '1.13168'},\n",
       "   'ask': {'o': '1.13206', 'h': '1.13245', 'l': '1.13172', 'c': '1.13176'}},\n",
       "  {'complete': True,\n",
       "   'volume': 1439,\n",
       "   'time': '2022-01-25T02:00:00.000000000Z',\n",
       "   'bid': {'o': '1.13164', 'h': '1.13179', 'l': '1.13088', 'c': '1.13121'},\n",
       "   'mid': {'o': '1.13171', 'h': '1.13186', 'l': '1.13096', 'c': '1.13128'},\n",
       "   'ask': {'o': '1.13178', 'h': '1.13194', 'l': '1.13103', 'c': '1.13136'}},\n",
       "  {'complete': True,\n",
       "   'volume': 902,\n",
       "   'time': '2022-01-25T03:00:00.000000000Z',\n",
       "   'bid': {'o': '1.13119', 'h': '1.13134', 'l': '1.13084', 'c': '1.13119'},\n",
       "   'mid': {'o': '1.13127', 'h': '1.13140', 'l': '1.13092', 'c': '1.13126'},\n",
       "   'ask': {'o': '1.13135', 'h': '1.13148', 'l': '1.13099', 'c': '1.13133'}},\n",
       "  {'complete': True,\n",
       "   'volume': 680,\n",
       "   'time': '2022-01-25T04:00:00.000000000Z',\n",
       "   'bid': {'o': '1.13120', 'h': '1.13158', 'l': '1.13092', 'c': '1.13113'},\n",
       "   'mid': {'o': '1.13127', 'h': '1.13166', 'l': '1.13099', 'c': '1.13120'},\n",
       "   'ask': {'o': '1.13134', 'h': '1.13173', 'l': '1.13106', 'c': '1.13126'}},\n",
       "  {'complete': False,\n",
       "   'volume': 655,\n",
       "   'time': '2022-01-25T05:00:00.000000000Z',\n",
       "   'bid': {'o': '1.13114', 'h': '1.13135', 'l': '1.13078', 'c': '1.13086'},\n",
       "   'mid': {'o': '1.13120', 'h': '1.13142', 'l': '1.13086', 'c': '1.13092'},\n",
       "   'ask': {'o': '1.13127', 'h': '1.13149', 'l': '1.13093', 'c': '1.13099'}}]}"
      ]
     },
     "execution_count": 19,
     "metadata": {},
     "output_type": "execute_result"
    }
   ],
   "source": [
    "response.json()"
   ]
  },
  {
   "cell_type": "code",
   "execution_count": null,
   "metadata": {},
   "outputs": [],
   "source": []
  }
 ],
 "metadata": {
  "interpreter": {
   "hash": "d33dcee9da7b196de654f24cab678bc1ebfa1c0354e013d5499b8ee4f0d2e1a4"
  },
  "kernelspec": {
   "display_name": "Python 3.9.9 64-bit ('venv': venv)",
   "language": "python",
   "name": "python3"
  },
  "language_info": {
   "codemirror_mode": {
    "name": "ipython",
    "version": 3
   },
   "file_extension": ".py",
   "mimetype": "text/x-python",
   "name": "python",
   "nbconvert_exporter": "python",
   "pygments_lexer": "ipython3",
   "version": "3.9.9"
  },
  "orig_nbformat": 4
 },
 "nbformat": 4,
 "nbformat_minor": 2
}
