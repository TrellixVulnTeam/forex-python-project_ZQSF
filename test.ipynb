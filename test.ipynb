{
 "cells": [
  {
   "cell_type": "code",
   "execution_count": 3,
   "metadata": {},
   "outputs": [],
   "source": [
    "import requests\n",
    "import defs\n",
    "import pandas as pd "
   ]
  },
  {
   "cell_type": "code",
   "execution_count": 4,
   "metadata": {},
   "outputs": [],
   "source": [
    "session = requests.Session()"
   ]
  },
  {
   "cell_type": "code",
   "execution_count": 5,
   "metadata": {},
   "outputs": [],
   "source": [
    "instrument = \"EUR_USD\"\n",
    "count = 10\n",
    "granularity = \"H1\""
   ]
  },
  {
   "cell_type": "code",
   "execution_count": 6,
   "metadata": {},
   "outputs": [],
   "source": [
    "url = f\"{defs.OANDA_URL}/instruments/{instrument}/candles\""
   ]
  },
  {
   "cell_type": "code",
   "execution_count": 7,
   "metadata": {},
   "outputs": [
    {
     "data": {
      "text/plain": [
       "'https://api-fxpractice.oanda.com/v3/instruments/EUR_USD/candles'"
      ]
     },
     "execution_count": 7,
     "metadata": {},
     "output_type": "execute_result"
    }
   ],
   "source": [
    "url"
   ]
  },
  {
   "cell_type": "code",
   "execution_count": 8,
   "metadata": {},
   "outputs": [],
   "source": [
    "params = dict(\n",
    "    count = count,\n",
    "    granularity = granularity,\n",
    "    price = \"MBA\"\n",
    ")"
   ]
  },
  {
   "cell_type": "code",
   "execution_count": 9,
   "metadata": {},
   "outputs": [
    {
     "data": {
      "text/plain": [
       "{'count': 10, 'granularity': 'H1', 'price': 'MBA'}"
      ]
     },
     "execution_count": 9,
     "metadata": {},
     "output_type": "execute_result"
    }
   ],
   "source": [
    "params"
   ]
  },
  {
   "cell_type": "code",
   "execution_count": 10,
   "metadata": {},
   "outputs": [],
   "source": [
    "response = session.get(url, params=params, headers=defs.SECURE_HEADER)"
   ]
  },
  {
   "cell_type": "code",
   "execution_count": 11,
   "metadata": {},
   "outputs": [
    {
     "data": {
      "text/plain": [
       "200"
      ]
     },
     "execution_count": 11,
     "metadata": {},
     "output_type": "execute_result"
    }
   ],
   "source": [
    "response.status_code\n"
   ]
  },
  {
   "cell_type": "code",
   "execution_count": 13,
   "metadata": {},
   "outputs": [],
   "source": [
    "data = response.json()"
   ]
  },
  {
   "cell_type": "code",
   "execution_count": 15,
   "metadata": {},
   "outputs": [
    {
     "data": {
      "text/plain": [
       "dict_keys(['instrument', 'granularity', 'candles'])"
      ]
     },
     "execution_count": 15,
     "metadata": {},
     "output_type": "execute_result"
    }
   ],
   "source": [
    "data.keys()"
   ]
  },
  {
   "cell_type": "code",
   "execution_count": 16,
   "metadata": {},
   "outputs": [
    {
     "data": {
      "text/plain": [
       "10"
      ]
     },
     "execution_count": 16,
     "metadata": {},
     "output_type": "execute_result"
    }
   ],
   "source": [
    "len(data['candles'])\n"
   ]
  },
  {
   "cell_type": "code",
   "execution_count": 19,
   "metadata": {},
   "outputs": [],
   "source": [
    "prices = ['mid', 'bid', 'ask']\n",
    "ohlc = ['o', 'h', 'l', 'c']\n"
   ]
  },
  {
   "cell_type": "code",
   "execution_count": 20,
   "metadata": {},
   "outputs": [
    {
     "name": "stdout",
     "output_type": "stream",
     "text": [
      "mid_o\n",
      "mid_h\n",
      "mid_l\n",
      "mid_c\n",
      "bid_o\n",
      "bid_h\n",
      "bid_l\n",
      "bid_c\n",
      "ask_o\n",
      "ask_h\n",
      "ask_l\n",
      "ask_c\n"
     ]
    }
   ],
   "source": [
    "for price in prices:\n",
    "    for oh in ohlc:\n",
    "        print(f\"{price}_{oh}\")"
   ]
  },
  {
   "cell_type": "code",
   "execution_count": 21,
   "metadata": {},
   "outputs": [
    {
     "data": {
      "text/plain": [
       "{'complete': True,\n",
       " 'volume': 4516,\n",
       " 'time': '2022-01-28T12:00:00.000000000Z',\n",
       " 'bid': {'o': '1.11325', 'h': '1.11409', 'l': '1.11249', 'c': '1.11261'},\n",
       " 'mid': {'o': '1.11332', 'h': '1.11416', 'l': '1.11256', 'c': '1.11270'},\n",
       " 'ask': {'o': '1.11340', 'h': '1.11423', 'l': '1.11263', 'c': '1.11278'}}"
      ]
     },
     "execution_count": 21,
     "metadata": {},
     "output_type": "execute_result"
    }
   ],
   "source": [
    "data['candles'][0]"
   ]
  },
  {
   "cell_type": "code",
   "execution_count": 18,
   "metadata": {},
   "outputs": [
    {
     "name": "stdout",
     "output_type": "stream",
     "text": [
      "{'complete': True, 'volume': 4516, 'time': '2022-01-28T12:00:00.000000000Z', 'bid': {'o': '1.11325', 'h': '1.11409', 'l': '1.11249', 'c': '1.11261'}, 'mid': {'o': '1.11332', 'h': '1.11416', 'l': '1.11256', 'c': '1.11270'}, 'ask': {'o': '1.11340', 'h': '1.11423', 'l': '1.11263', 'c': '1.11278'}}\n",
      "{'complete': True, 'volume': 10768, 'time': '2022-01-28T13:00:00.000000000Z', 'bid': {'o': '1.11264', 'h': '1.11682', 'l': '1.11264', 'c': '1.11680'}, 'mid': {'o': '1.11272', 'h': '1.11689', 'l': '1.11272', 'c': '1.11686'}, 'ask': {'o': '1.11279', 'h': '1.11696', 'l': '1.11279', 'c': '1.11693'}}\n",
      "{'complete': True, 'volume': 9505, 'time': '2022-01-28T14:00:00.000000000Z', 'bid': {'o': '1.11681', 'h': '1.11731', 'l': '1.11427', 'c': '1.11568'}, 'mid': {'o': '1.11688', 'h': '1.11738', 'l': '1.11434', 'c': '1.11576'}, 'ask': {'o': '1.11694', 'h': '1.11744', 'l': '1.11441', 'c': '1.11584'}}\n",
      "{'complete': True, 'volume': 8628, 'time': '2022-01-28T15:00:00.000000000Z', 'bid': {'o': '1.11565', 'h': '1.11668', 'l': '1.11375', 'c': '1.11636'}, 'mid': {'o': '1.11574', 'h': '1.11674', 'l': '1.11382', 'c': '1.11643'}, 'ask': {'o': '1.11584', 'h': '1.11681', 'l': '1.11389', 'c': '1.11650'}}\n",
      "{'complete': True, 'volume': 7165, 'time': '2022-01-28T16:00:00.000000000Z', 'bid': {'o': '1.11638', 'h': '1.11690', 'l': '1.11548', 'c': '1.11599'}, 'mid': {'o': '1.11644', 'h': '1.11696', 'l': '1.11556', 'c': '1.11606'}, 'ask': {'o': '1.11651', 'h': '1.11703', 'l': '1.11563', 'c': '1.11613'}}\n",
      "{'complete': True, 'volume': 2920, 'time': '2022-01-28T17:00:00.000000000Z', 'bid': {'o': '1.11601', 'h': '1.11629', 'l': '1.11501', 'c': '1.11506'}, 'mid': {'o': '1.11608', 'h': '1.11636', 'l': '1.11509', 'c': '1.11512'}, 'ask': {'o': '1.11615', 'h': '1.11643', 'l': '1.11517', 'c': '1.11519'}}\n",
      "{'complete': True, 'volume': 2309, 'time': '2022-01-28T18:00:00.000000000Z', 'bid': {'o': '1.11507', 'h': '1.11555', 'l': '1.11467', 'c': '1.11515'}, 'mid': {'o': '1.11514', 'h': '1.11562', 'l': '1.11474', 'c': '1.11522'}, 'ask': {'o': '1.11522', 'h': '1.11569', 'l': '1.11482', 'c': '1.11529'}}\n",
      "{'complete': True, 'volume': 1896, 'time': '2022-01-28T19:00:00.000000000Z', 'bid': {'o': '1.11516', 'h': '1.11533', 'l': '1.11426', 'c': '1.11438'}, 'mid': {'o': '1.11523', 'h': '1.11540', 'l': '1.11434', 'c': '1.11444'}, 'ask': {'o': '1.11530', 'h': '1.11547', 'l': '1.11441', 'c': '1.11451'}}\n",
      "{'complete': True, 'volume': 1677, 'time': '2022-01-28T20:00:00.000000000Z', 'bid': {'o': '1.11437', 'h': '1.11495', 'l': '1.11405', 'c': '1.11493'}, 'mid': {'o': '1.11443', 'h': '1.11504', 'l': '1.11412', 'c': '1.11502'}, 'ask': {'o': '1.11449', 'h': '1.11512', 'l': '1.11419', 'c': '1.11510'}}\n",
      "{'complete': True, 'volume': 587, 'time': '2022-01-28T21:00:00.000000000Z', 'bid': {'o': '1.11496', 'h': '1.11506', 'l': '1.11451', 'c': '1.11480'}, 'mid': {'o': '1.11504', 'h': '1.11514', 'l': '1.11458', 'c': '1.11492'}, 'ask': {'o': '1.11512', 'h': '1.11524', 'l': '1.11466', 'c': '1.11503'}}\n"
     ]
    }
   ],
   "source": [
    "our_data = []\n",
    "for candle in data['candles']:\n",
    "    # skip if candle is not completely drawn\n",
    "    if candle['complete'] == False:\n",
    "        continue\n",
    "    new_dict = {}\n",
    "    new_dict['time'] = candle['time']\n",
    "    new_dict['volume'] = candle['volume']\n",
    "    print(new_dict)"
   ]
  },
  {
   "cell_type": "code",
   "execution_count": null,
   "metadata": {},
   "outputs": [],
   "source": []
  }
 ],
 "metadata": {
  "interpreter": {
   "hash": "d33dcee9da7b196de654f24cab678bc1ebfa1c0354e013d5499b8ee4f0d2e1a4"
  },
  "kernelspec": {
   "display_name": "Python 3.9.9 64-bit ('venv': venv)",
   "language": "python",
   "name": "python3"
  },
  "language_info": {
   "codemirror_mode": {
    "name": "ipython",
    "version": 3
   },
   "file_extension": ".py",
   "mimetype": "text/x-python",
   "name": "python",
   "nbconvert_exporter": "python",
   "pygments_lexer": "ipython3",
   "version": "3.9.9"
  },
  "orig_nbformat": 4
 },
 "nbformat": 4,
 "nbformat_minor": 2
}
